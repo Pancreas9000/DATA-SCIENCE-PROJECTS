{
 "cells": [
  {
   "cell_type": "markdown",
   "id": "a1704a11",
   "metadata": {},
   "source": [
    "# __Analisis de Datos Históricos de consumo y precio en España (2000 - 2024)__\n",
    "\n",
    "# Procesamiento de los datos oficiales."
   ]
  },
  {
   "cell_type": "markdown",
   "id": "4fb8cb0e",
   "metadata": {},
   "source": [
    "https://ine.es/jaxiT3/Datos.htm?t=28189#_tabs-tabla\n",
    "\n",
    "https://www.mapa.gob.es/es/alimentacion/temas/consumo-tendencias/panel-de-consumo-alimentario/series-anuales/default.aspx"
   ]
  },
  {
   "cell_type": "markdown",
   "id": "74f1e541",
   "metadata": {},
   "source": [
    "Vamos a estar analizando la evolución del __Consumo x Cápita__ y del __Precio__ de los siguientes 9 alimentos:\n",
    "- *CARNE DE VACUNO*\n",
    "- *CARNE DE POLLO*\n",
    "- *CARNE DE CERDO*\n",
    "- *ACEITE DE OLIVA*\n",
    "- *TOMATES*\n",
    "- *SALMON*\n",
    "- *ARROZ*\n",
    "- *CONSERVAS*\n",
    "- *PAN*\n",
    "\n",
    "Primero de todo necesitamos importar las librerias de python que necesitaremos:"
   ]
  },
  {
   "cell_type": "code",
   "execution_count": 9,
   "id": "f5431ace",
   "metadata": {},
   "outputs": [],
   "source": [
    "import openpyxl\n",
    "import pandas as pd\n",
    "from pathlib import Path"
   ]
  },
  {
   "cell_type": "markdown",
   "id": "3badd24b",
   "metadata": {},
   "source": [
    "### Primero procesamos los datos alimentarios"
   ]
  },
  {
   "cell_type": "markdown",
   "id": "781f4818",
   "metadata": {},
   "source": [
    "Ahora debido a que los datos se encuentran divididos en __25 excels__, con las distintas variables en las distintas páginas del excel, he decidido crear este `script` para generar archivos csv que luego juntaré para crear la base de datos sobre la que posteriormente realizaré mi analisis. (El script tarda aproximadamente un minuto porque debe cargar y procesar 25 archivos Excel, lo cual es una operación relativamente pesada. Leer archivos `.xlsx` con pandas es más lento que leer otros formatos como `.csv`)."
   ]
  },
  {
   "cell_type": "code",
   "execution_count": 10,
   "id": "c1dcd8a9",
   "metadata": {},
   "outputs": [],
   "source": [
    "path = Path('../Raw Data')\n",
    "files_list = [filename for filename in path.glob('*.xlsx')] #Creo una lista con todos los archivos del directorio Excel Data\n",
    "\n",
    "df_consumo = pd.DataFrame(columns=['PRODUCTO','AÑO','CONSUMOXCAPITA']) #Aquí creo los dos dataframes finales a los que les voy a ir añadiendo filas\n",
    "df_precio = pd.DataFrame(columns=['PRODUCTO','AÑO','PRECIO']) \n",
    "\n",
    "\n",
    "food_products = ['CARNE VACUNO','CARNE POLLO','CARNE CERDO','ACEITE DE OLIVA','TOMATES','SALMON','ARROZ','PLAT.PREP.CONSERVA','PAN'] #Alimentos a analizar\n",
    "\n",
    "for filename in files_list:\n",
    "    filewb = openpyxl.load_workbook(filename,data_only=True)  \n",
    "    for sheetname in filewb.sheetnames:                   #Iteramos sobre las sheets de cada excel file\n",
    "        if sheetname in ['CONSUMOXCAPITA','CONSUMOXCÁPITA','CONSUMO X CÁPITA','PRECIO','PRECIOS']:\n",
    "            filedf = pd.read_excel(filename,sheet_name=sheetname,header = 2)\n",
    "            filedf = filedf.rename(columns = {'Unnamed: 0':'PRODUCTO'}) \n",
    "\n",
    "            if 'PRECIO' in sheetname:\n",
    "                filedf = filedf.rename(columns = {'.TOTAL ESPAÑA':'PRECIO','T.ESPAÑA':'PRECIO'},errors='ignore')\n",
    "                filedf = filedf.loc[(filedf['PRODUCTO'].isin(food_products))|(filedf['PRODUCTO'].str.contains(r'.*ACEITE.*OLIVA.*')),['PRODUCTO','PRECIO']]\n",
    "            else:\n",
    "                filedf = filedf.rename(columns = {'.TOTAL ESPAÑA':'CONSUMOXCAPITA','T.ESPAÑA':'CONSUMOXCAPITA'},errors='ignore')\n",
    "                filedf = filedf.loc[(filedf['PRODUCTO'].isin(food_products))|(filedf['PRODUCTO'].str.contains(r'.*ACEITE.*OLIVA.*')),['PRODUCTO','CONSUMOXCAPITA']]\n",
    "            \n",
    "            año = filename.name[:4]     # Homogeinizo y filtro las columnas que quiero seleccionar\n",
    "\n",
    "            filedf['AÑO'] = int(año)\n",
    "            \n",
    "            if 'PRECIO' in sheetname:   # Ahora toca concatenar todos estos dfs a los dos dataframes finales df_consumo y df_precio: \n",
    "                df_precio = pd.concat([df_precio,filedf])\n",
    "            else:\n",
    "                df_consumo = pd.concat([df_consumo,filedf])\n",
    "\n",
    "\n"
   ]
  },
  {
   "cell_type": "markdown",
   "id": "04d93ae4",
   "metadata": {},
   "source": [
    "Finalmente utilizamos el método `merge()` y guardamos nuestro Dataframe final."
   ]
  },
  {
   "cell_type": "code",
   "execution_count": 11,
   "id": "15907a86",
   "metadata": {},
   "outputs": [],
   "source": [
    "df_clean = pd.merge(df_precio,df_consumo,on=['AÑO','PRODUCTO'],how='inner')"
   ]
  },
  {
   "cell_type": "markdown",
   "id": "9960c42c",
   "metadata": {},
   "source": [
    "Observando los datos originales, nos damos cuenta que hay dos productos con el mismo nombre *\"TOMATES\"* pero distintos datos ya que __el primero se refiere a TOMATES como hortaliza fresca y el segundo a TOMATES como conserva__.\n",
    "\n",
    "Una vez decididos a eliminar TOMATES en conserva de nuestro dataframe solo queda usar `drop.duplicates()` ya que este siempre aparece en segundo lugar.\n",
    "\n",
    "Además debemos homogeneizar el nombre de la suma de las diferentes variedades de aceite de oliva ya que de 2000-2012, este está etiquetado como *\"ACEITE DE OLIVA\"*, de 2013-2023 *\"TOTAL ACEITES DE OLIVA\"* y en 2024 como *\"TOTAL ACEITES OLIVA\"*."
   ]
  },
  {
   "cell_type": "code",
   "execution_count": 12,
   "id": "be701504",
   "metadata": {},
   "outputs": [],
   "source": [
    "df_clean = df_clean.drop_duplicates(subset=['AÑO','PRODUCTO']).copy()\n",
    "df_clean['PRODUCTO']=df_clean['PRODUCTO'].replace({'ACEITE DE OLIVA':'ACEITE DE OLIVA',\n",
    "                                               'TOTAL ACEITES DE OLIVA':'ACEITE DE OLIVA',\n",
    "                                               'TOTAL ACEITES OLIVA':'ACEITE DE OLIVA'})"
   ]
  },
  {
   "cell_type": "markdown",
   "id": "2b8a8a6e",
   "metadata": {},
   "source": [
    "Por último guardamos el archivo final."
   ]
  },
  {
   "cell_type": "code",
   "execution_count": 13,
   "id": "081dc080",
   "metadata": {},
   "outputs": [],
   "source": [
    "df_clean.to_csv('../Filtered Data/Datos_consumo_precio_espana.csv',index=False)"
   ]
  },
  {
   "cell_type": "markdown",
   "id": "18e66b8d",
   "metadata": {},
   "source": [
    "### Ahora vamos a procesar el archivo de ganancias medias anuales por trabajador de todas las edades y de ambos sexos (2008-2023) que extraje del INE:"
   ]
  },
  {
   "cell_type": "code",
   "execution_count": 14,
   "id": "a61ee819",
   "metadata": {},
   "outputs": [
    {
     "data": {
      "text/html": [
       "<div>\n",
       "<style scoped>\n",
       "    .dataframe tbody tr th:only-of-type {\n",
       "        vertical-align: middle;\n",
       "    }\n",
       "\n",
       "    .dataframe tbody tr th {\n",
       "        vertical-align: top;\n",
       "    }\n",
       "\n",
       "    .dataframe thead th {\n",
       "        text-align: right;\n",
       "    }\n",
       "</style>\n",
       "<table border=\"1\" class=\"dataframe\">\n",
       "  <thead>\n",
       "    <tr style=\"text-align: right;\">\n",
       "      <th></th>\n",
       "      <th>Grupos de edad</th>\n",
       "      <th>Sexo</th>\n",
       "      <th>Periodo</th>\n",
       "      <th>Total</th>\n",
       "    </tr>\n",
       "  </thead>\n",
       "  <tbody>\n",
       "    <tr>\n",
       "      <th>0</th>\n",
       "      <td>Todas las edades</td>\n",
       "      <td>Ambos sexos</td>\n",
       "      <td>2023</td>\n",
       "      <td>28.049,94</td>\n",
       "    </tr>\n",
       "    <tr>\n",
       "      <th>1</th>\n",
       "      <td>Todas las edades</td>\n",
       "      <td>Ambos sexos</td>\n",
       "      <td>2022</td>\n",
       "      <td>26.948,87</td>\n",
       "    </tr>\n",
       "    <tr>\n",
       "      <th>2</th>\n",
       "      <td>Todas las edades</td>\n",
       "      <td>Ambos sexos</td>\n",
       "      <td>2021</td>\n",
       "      <td>25.896,82</td>\n",
       "    </tr>\n",
       "    <tr>\n",
       "      <th>3</th>\n",
       "      <td>Todas las edades</td>\n",
       "      <td>Ambos sexos</td>\n",
       "      <td>2020</td>\n",
       "      <td>25.165,51</td>\n",
       "    </tr>\n",
       "    <tr>\n",
       "      <th>4</th>\n",
       "      <td>Todas las edades</td>\n",
       "      <td>Ambos sexos</td>\n",
       "      <td>2019</td>\n",
       "      <td>24.395,98</td>\n",
       "    </tr>\n",
       "  </tbody>\n",
       "</table>\n",
       "</div>"
      ],
      "text/plain": [
       "     Grupos de edad         Sexo  Periodo      Total\n",
       "0  Todas las edades  Ambos sexos     2023  28.049,94\n",
       "1  Todas las edades  Ambos sexos     2022  26.948,87\n",
       "2  Todas las edades  Ambos sexos     2021  25.896,82\n",
       "3  Todas las edades  Ambos sexos     2020  25.165,51\n",
       "4  Todas las edades  Ambos sexos     2019  24.395,98"
      ]
     },
     "execution_count": 14,
     "metadata": {},
     "output_type": "execute_result"
    }
   ],
   "source": [
    "salario=pd.read_csv('../Raw Data/28189.csv',sep=';')\n",
    "salario.head()"
   ]
  },
  {
   "cell_type": "code",
   "execution_count": 15,
   "id": "ed708b7d",
   "metadata": {},
   "outputs": [],
   "source": [
    "salario = salario.rename(columns={'Total':'Ganancia','Periodo':'AÑO'})\n",
    "salario = salario[['AÑO','Ganancia']]"
   ]
  },
  {
   "cell_type": "code",
   "execution_count": 16,
   "id": "c2103b6f",
   "metadata": {},
   "outputs": [
    {
     "name": "stdout",
     "output_type": "stream",
     "text": [
      "<class 'pandas.core.frame.DataFrame'>\n",
      "RangeIndex: 16 entries, 0 to 15\n",
      "Data columns (total 2 columns):\n",
      " #   Column    Non-Null Count  Dtype \n",
      "---  ------    --------------  ----- \n",
      " 0   AÑO       16 non-null     int64 \n",
      " 1   Ganancia  16 non-null     object\n",
      "dtypes: int64(1), object(1)\n",
      "memory usage: 384.0+ bytes\n"
     ]
    }
   ],
   "source": [
    "salario.info()"
   ]
  },
  {
   "cell_type": "markdown",
   "id": "d7e6c5c4",
   "metadata": {},
   "source": [
    "Aquí nos damos cuenta que Ganancia está formateado como un string y eso nos generará problemas mas tarde."
   ]
  },
  {
   "cell_type": "code",
   "execution_count": 17,
   "id": "d9ceeaba",
   "metadata": {},
   "outputs": [],
   "source": [
    "def reformat(a):\n",
    "    a = a.replace('.','')\n",
    "    a = a.replace(',','.')\n",
    "    return float(a)\n",
    "\n",
    "salario['Ganancia'] = salario['Ganancia'].apply(reformat)"
   ]
  },
  {
   "cell_type": "code",
   "execution_count": 18,
   "id": "8fa2aa35",
   "metadata": {},
   "outputs": [
    {
     "data": {
      "text/html": [
       "<div>\n",
       "<style scoped>\n",
       "    .dataframe tbody tr th:only-of-type {\n",
       "        vertical-align: middle;\n",
       "    }\n",
       "\n",
       "    .dataframe tbody tr th {\n",
       "        vertical-align: top;\n",
       "    }\n",
       "\n",
       "    .dataframe thead th {\n",
       "        text-align: right;\n",
       "    }\n",
       "</style>\n",
       "<table border=\"1\" class=\"dataframe\">\n",
       "  <thead>\n",
       "    <tr style=\"text-align: right;\">\n",
       "      <th></th>\n",
       "      <th>AÑO</th>\n",
       "      <th>Ganancia</th>\n",
       "    </tr>\n",
       "  </thead>\n",
       "  <tbody>\n",
       "    <tr>\n",
       "      <th>0</th>\n",
       "      <td>2023</td>\n",
       "      <td>28049.94</td>\n",
       "    </tr>\n",
       "    <tr>\n",
       "      <th>1</th>\n",
       "      <td>2022</td>\n",
       "      <td>26948.87</td>\n",
       "    </tr>\n",
       "    <tr>\n",
       "      <th>2</th>\n",
       "      <td>2021</td>\n",
       "      <td>25896.82</td>\n",
       "    </tr>\n",
       "    <tr>\n",
       "      <th>3</th>\n",
       "      <td>2020</td>\n",
       "      <td>25165.51</td>\n",
       "    </tr>\n",
       "    <tr>\n",
       "      <th>4</th>\n",
       "      <td>2019</td>\n",
       "      <td>24395.98</td>\n",
       "    </tr>\n",
       "  </tbody>\n",
       "</table>\n",
       "</div>"
      ],
      "text/plain": [
       "    AÑO  Ganancia\n",
       "0  2023  28049.94\n",
       "1  2022  26948.87\n",
       "2  2021  25896.82\n",
       "3  2020  25165.51\n",
       "4  2019  24395.98"
      ]
     },
     "execution_count": 18,
     "metadata": {},
     "output_type": "execute_result"
    }
   ],
   "source": [
    "salario.head()"
   ]
  },
  {
   "cell_type": "code",
   "execution_count": 19,
   "id": "d40799da",
   "metadata": {},
   "outputs": [],
   "source": [
    "salario.to_csv('../Filtered Data/salarios.csv',index=False)"
   ]
  },
  {
   "cell_type": "markdown",
   "id": "4f8321c0",
   "metadata": {},
   "source": [
    "Ahora que tenemos los datos filtrados y ordenados, ya podemos volcarnos en el análisis que nos concierne."
   ]
  }
 ],
 "metadata": {
  "kernelspec": {
   "display_name": "dataenv1",
   "language": "python",
   "name": "python3"
  },
  "language_info": {
   "codemirror_mode": {
    "name": "ipython",
    "version": 3
   },
   "file_extension": ".py",
   "mimetype": "text/x-python",
   "name": "python",
   "nbconvert_exporter": "python",
   "pygments_lexer": "ipython3",
   "version": "3.8.12"
  }
 },
 "nbformat": 4,
 "nbformat_minor": 5
}
